{
 "cells": [
  {
   "cell_type": "markdown",
   "id": "b02f448d-f5ae-4f7d-8f59-8b5a0e48ca01",
   "metadata": {},
   "source": [
    "# **Исследование данных сервиса аренды самокатов GoFast**"
   ]
  },
  {
   "cell_type": "markdown",
   "id": "1927f0a5-7311-4b81-923c-f9785ae86b8a",
   "metadata": {},
   "source": [
    "В нашем распоряжении данные сервиса аренды самокатов GoFast о некоторых пользоватялеях из нескольких городов, об их поездках и о типах подписок данного сервиса. Нужно проанализировать данные и проверить несколько гипотез, чтобы помочь бизнесу вырасти.\n",
    "\n",
    "Пользователи берут самокаты в аренду с помощью мобильного приложения, которым можно пользоваться с разными тарифами - без подписки или с подпиской `ultra`.\n",
    "\n",
    "\n",
    "**Цель исследования:**\n",
    "\n",
    "\n",
    "1. Узнать, тратят ли пользователи с подпиской больше времени на поездки - то есть, являются ли пользователи с подпиской выгодными для сервиса.\n",
    "2. Выяснить, является ли среднее расстояние, проделываемое пользователями с подпиской за одну поездку, оптимальным с точки зрения износа самоката.\n",
    "3. Проверить, будет ли помесячная выручка от пользователей с подпиской по месяцам выше, чем выручка от пользователей без подписки.\n",
    "\n",
    "\n",
    "    **Ход исследования:**\n",
    "\n",
    "\n",
    "   Данные о пользователях я получу из файла `/datasets/users_go.csv`, о поездках - из `/datasets/rides_go.csv`, о тарифах - из `/datasets/subscriptions_go.csv`. В данных могут быть ошибки, поэтому предварительно я займусь предобработкой данных, чтобы быть уверенной в том, что ошибки не повлияют на ход анализа. Если же я пойму, что ошибки критичны, я исправлю их там, где это будет возможно. Затем я приступлю к исследовательскому анализу. Далее я создам сводные таблицы и объединю три датафрейма в один для удобного анализа и дальнейшей проверки гипотез.\n",
    "\n",
    "   В итоге, мое исследование пройдет в 7 этапов:\n",
    "\n",
    "   - Загрузка данных\n",
    "   - Предобработка данных\n",
    "   - Исследовательский анализ данных\n",
    "   - Объединение данных\n",
    "   - Подсчёт выручки\n",
    "   - Проверка гипотез\n",
    "   - Общий вывод"
   ]
  },
  {
   "cell_type": "markdown",
   "id": "51320c71-745b-4766-aef0-be90357bb174",
   "metadata": {},
   "source": [
    "## Загрузка данных"
   ]
  },
  {
   "cell_type": "markdown",
   "id": "6bc909c3-a5ae-4dbc-99b8-7a55bb57fa83",
   "metadata": {},
   "source": [
    "Для начала импортируем библиотеки *pandas, matplotlib, numpy, scipy.stats* и сохраним датасеты, выведем на экран первые 5 строк каждого из них, чтобы посмотреть на содержимое, и изучим общую информацию датафреймов:"
   ]
  },
  {
   "cell_type": "code",
   "execution_count": 1,
   "id": "b2864913-ad0c-40db-a32c-9faef03094d3",
   "metadata": {},
   "outputs": [],
   "source": [
    "import pandas as pd"
   ]
  },
  {
   "cell_type": "code",
   "execution_count": 2,
   "id": "da31a597-1187-45d3-a81f-c0a92ad156bc",
   "metadata": {},
   "outputs": [],
   "source": [
    "import matplotlib.pyplot as plt"
   ]
  },
  {
   "cell_type": "code",
   "execution_count": 3,
   "id": "98dfcf96-ef46-4aab-8615-13421474be5f",
   "metadata": {},
   "outputs": [],
   "source": [
    "import numpy as np"
   ]
  },
  {
   "cell_type": "code",
   "execution_count": 4,
   "id": "1ef13d63-1b5a-4a24-81c4-a46a4b4b66e5",
   "metadata": {},
   "outputs": [],
   "source": [
    "from scipy import stats as st"
   ]
  },
  {
   "cell_type": "code",
   "execution_count": 5,
   "id": "a78f6ae7-d780-4ec3-b3fa-886155600ac2",
   "metadata": {},
   "outputs": [],
   "source": [
    "try:\n",
    "    rides_data = pd.read_csv('jupyter_projects/rides_go.csv')\n",
    "except:\n",
    "    rides_data = pd.read_csv('/datasets/rides_go.csv')\n",
    "    \n",
    "try:\n",
    "    subscriptions_data = pd.read_csv('jupyter_projects/subscriptions_go.csv')\n",
    "except:\n",
    "    subscriptions_data = pd.read_csv('/datasets/subscriptions_go.csv')\n",
    "    \n",
    "try:\n",
    "    users_data = pd.read_csv('jupyter_projects/users_go.csv')\n",
    "except:\n",
    "    users_data = pd.read_csv('/datasets/users_go.csv')"
   ]
  },
  {
   "cell_type": "code",
   "execution_count": 6,
   "id": "a093f2df-ce82-4abe-9bfe-d6cdd6f8ad38",
   "metadata": {},
   "outputs": [
    {
     "data": {
      "text/html": [
       "<div>\n",
       "<style scoped>\n",
       "    .dataframe tbody tr th:only-of-type {\n",
       "        vertical-align: middle;\n",
       "    }\n",
       "\n",
       "    .dataframe tbody tr th {\n",
       "        vertical-align: top;\n",
       "    }\n",
       "\n",
       "    .dataframe thead th {\n",
       "        text-align: right;\n",
       "    }\n",
       "</style>\n",
       "<table border=\"1\" class=\"dataframe\">\n",
       "  <thead>\n",
       "    <tr style=\"text-align: right;\">\n",
       "      <th></th>\n",
       "      <th>user_id</th>\n",
       "      <th>distance</th>\n",
       "      <th>duration</th>\n",
       "      <th>date</th>\n",
       "    </tr>\n",
       "  </thead>\n",
       "  <tbody>\n",
       "    <tr>\n",
       "      <th>0</th>\n",
       "      <td>1</td>\n",
       "      <td>4409.919140</td>\n",
       "      <td>25.599769</td>\n",
       "      <td>2021-01-01</td>\n",
       "    </tr>\n",
       "    <tr>\n",
       "      <th>1</th>\n",
       "      <td>1</td>\n",
       "      <td>2617.592153</td>\n",
       "      <td>15.816871</td>\n",
       "      <td>2021-01-18</td>\n",
       "    </tr>\n",
       "    <tr>\n",
       "      <th>2</th>\n",
       "      <td>1</td>\n",
       "      <td>754.159807</td>\n",
       "      <td>6.232113</td>\n",
       "      <td>2021-04-20</td>\n",
       "    </tr>\n",
       "    <tr>\n",
       "      <th>3</th>\n",
       "      <td>1</td>\n",
       "      <td>2694.783254</td>\n",
       "      <td>18.511000</td>\n",
       "      <td>2021-08-11</td>\n",
       "    </tr>\n",
       "    <tr>\n",
       "      <th>4</th>\n",
       "      <td>1</td>\n",
       "      <td>4028.687306</td>\n",
       "      <td>26.265803</td>\n",
       "      <td>2021-08-28</td>\n",
       "    </tr>\n",
       "  </tbody>\n",
       "</table>\n",
       "</div>"
      ],
      "text/plain": [
       "   user_id     distance   duration        date\n",
       "0        1  4409.919140  25.599769  2021-01-01\n",
       "1        1  2617.592153  15.816871  2021-01-18\n",
       "2        1   754.159807   6.232113  2021-04-20\n",
       "3        1  2694.783254  18.511000  2021-08-11\n",
       "4        1  4028.687306  26.265803  2021-08-28"
      ]
     },
     "execution_count": 6,
     "metadata": {},
     "output_type": "execute_result"
    }
   ],
   "source": [
    "rides_data.head()"
   ]
  },
  {
   "cell_type": "code",
   "execution_count": 7,
   "id": "f75d1360-109c-42a9-a887-033c377f0d94",
   "metadata": {},
   "outputs": [
    {
     "name": "stdout",
     "output_type": "stream",
     "text": [
      "<class 'pandas.core.frame.DataFrame'>\n",
      "RangeIndex: 18068 entries, 0 to 18067\n",
      "Data columns (total 4 columns):\n",
      " #   Column    Non-Null Count  Dtype  \n",
      "---  ------    --------------  -----  \n",
      " 0   user_id   18068 non-null  int64  \n",
      " 1   distance  18068 non-null  float64\n",
      " 2   duration  18068 non-null  float64\n",
      " 3   date      18068 non-null  object \n",
      "dtypes: float64(2), int64(1), object(1)\n",
      "memory usage: 564.8+ KB\n"
     ]
    }
   ],
   "source": [
    "rides_data.info()"
   ]
  },
  {
   "cell_type": "code",
   "execution_count": 8,
   "id": "84736251-e5b6-4ae1-ba5d-a75039ede4ee",
   "metadata": {},
   "outputs": [
    {
     "data": {
      "text/html": [
       "<div>\n",
       "<style scoped>\n",
       "    .dataframe tbody tr th:only-of-type {\n",
       "        vertical-align: middle;\n",
       "    }\n",
       "\n",
       "    .dataframe tbody tr th {\n",
       "        vertical-align: top;\n",
       "    }\n",
       "\n",
       "    .dataframe thead th {\n",
       "        text-align: right;\n",
       "    }\n",
       "</style>\n",
       "<table border=\"1\" class=\"dataframe\">\n",
       "  <thead>\n",
       "    <tr style=\"text-align: right;\">\n",
       "      <th></th>\n",
       "      <th>subscription_type</th>\n",
       "      <th>minute_price</th>\n",
       "      <th>start_ride_price</th>\n",
       "      <th>subscription_fee</th>\n",
       "    </tr>\n",
       "  </thead>\n",
       "  <tbody>\n",
       "    <tr>\n",
       "      <th>0</th>\n",
       "      <td>free</td>\n",
       "      <td>8</td>\n",
       "      <td>50</td>\n",
       "      <td>0</td>\n",
       "    </tr>\n",
       "    <tr>\n",
       "      <th>1</th>\n",
       "      <td>ultra</td>\n",
       "      <td>6</td>\n",
       "      <td>0</td>\n",
       "      <td>199</td>\n",
       "    </tr>\n",
       "  </tbody>\n",
       "</table>\n",
       "</div>"
      ],
      "text/plain": [
       "  subscription_type  minute_price  start_ride_price  subscription_fee\n",
       "0              free             8                50                 0\n",
       "1             ultra             6                 0               199"
      ]
     },
     "execution_count": 8,
     "metadata": {},
     "output_type": "execute_result"
    }
   ],
   "source": [
    "subscriptions_data.head()"
   ]
  },
  {
   "cell_type": "code",
   "execution_count": 9,
   "id": "ddeacaf2-fade-4bd7-a048-c8ac0c769593",
   "metadata": {},
   "outputs": [
    {
     "name": "stdout",
     "output_type": "stream",
     "text": [
      "<class 'pandas.core.frame.DataFrame'>\n",
      "RangeIndex: 2 entries, 0 to 1\n",
      "Data columns (total 4 columns):\n",
      " #   Column             Non-Null Count  Dtype \n",
      "---  ------             --------------  ----- \n",
      " 0   subscription_type  2 non-null      object\n",
      " 1   minute_price       2 non-null      int64 \n",
      " 2   start_ride_price   2 non-null      int64 \n",
      " 3   subscription_fee   2 non-null      int64 \n",
      "dtypes: int64(3), object(1)\n",
      "memory usage: 196.0+ bytes\n"
     ]
    }
   ],
   "source": [
    "subscriptions_data.info()"
   ]
  },
  {
   "cell_type": "code",
   "execution_count": 10,
   "id": "68d0b2f1-18cb-4208-a5aa-957cce93452c",
   "metadata": {},
   "outputs": [
    {
     "data": {
      "text/html": [
       "<div>\n",
       "<style scoped>\n",
       "    .dataframe tbody tr th:only-of-type {\n",
       "        vertical-align: middle;\n",
       "    }\n",
       "\n",
       "    .dataframe tbody tr th {\n",
       "        vertical-align: top;\n",
       "    }\n",
       "\n",
       "    .dataframe thead th {\n",
       "        text-align: right;\n",
       "    }\n",
       "</style>\n",
       "<table border=\"1\" class=\"dataframe\">\n",
       "  <thead>\n",
       "    <tr style=\"text-align: right;\">\n",
       "      <th></th>\n",
       "      <th>user_id</th>\n",
       "      <th>name</th>\n",
       "      <th>age</th>\n",
       "      <th>city</th>\n",
       "      <th>subscription_type</th>\n",
       "    </tr>\n",
       "  </thead>\n",
       "  <tbody>\n",
       "    <tr>\n",
       "      <th>0</th>\n",
       "      <td>1</td>\n",
       "      <td>Кира</td>\n",
       "      <td>22</td>\n",
       "      <td>Тюмень</td>\n",
       "      <td>ultra</td>\n",
       "    </tr>\n",
       "    <tr>\n",
       "      <th>1</th>\n",
       "      <td>2</td>\n",
       "      <td>Станислав</td>\n",
       "      <td>31</td>\n",
       "      <td>Омск</td>\n",
       "      <td>ultra</td>\n",
       "    </tr>\n",
       "    <tr>\n",
       "      <th>2</th>\n",
       "      <td>3</td>\n",
       "      <td>Алексей</td>\n",
       "      <td>20</td>\n",
       "      <td>Москва</td>\n",
       "      <td>ultra</td>\n",
       "    </tr>\n",
       "    <tr>\n",
       "      <th>3</th>\n",
       "      <td>4</td>\n",
       "      <td>Константин</td>\n",
       "      <td>26</td>\n",
       "      <td>Ростов-на-Дону</td>\n",
       "      <td>ultra</td>\n",
       "    </tr>\n",
       "    <tr>\n",
       "      <th>4</th>\n",
       "      <td>5</td>\n",
       "      <td>Адель</td>\n",
       "      <td>28</td>\n",
       "      <td>Омск</td>\n",
       "      <td>ultra</td>\n",
       "    </tr>\n",
       "  </tbody>\n",
       "</table>\n",
       "</div>"
      ],
      "text/plain": [
       "   user_id        name  age            city subscription_type\n",
       "0        1        Кира   22          Тюмень             ultra\n",
       "1        2   Станислав   31            Омск             ultra\n",
       "2        3     Алексей   20          Москва             ultra\n",
       "3        4  Константин   26  Ростов-на-Дону             ultra\n",
       "4        5       Адель   28            Омск             ultra"
      ]
     },
     "execution_count": 10,
     "metadata": {},
     "output_type": "execute_result"
    }
   ],
   "source": [
    "users_data.head()"
   ]
  },
  {
   "cell_type": "code",
   "execution_count": 11,
   "id": "12354937-4df4-4af2-b399-2da93fdaccef",
   "metadata": {},
   "outputs": [
    {
     "name": "stdout",
     "output_type": "stream",
     "text": [
      "<class 'pandas.core.frame.DataFrame'>\n",
      "RangeIndex: 1565 entries, 0 to 1564\n",
      "Data columns (total 5 columns):\n",
      " #   Column             Non-Null Count  Dtype \n",
      "---  ------             --------------  ----- \n",
      " 0   user_id            1565 non-null   int64 \n",
      " 1   name               1565 non-null   object\n",
      " 2   age                1565 non-null   int64 \n",
      " 3   city               1565 non-null   object\n",
      " 4   subscription_type  1565 non-null   object\n",
      "dtypes: int64(2), object(3)\n",
      "memory usage: 61.3+ KB\n"
     ]
    }
   ],
   "source": [
    "users_data.info()"
   ]
  },
  {
   "cell_type": "markdown",
   "id": "06b5bf30-b7ae-40e1-b7d2-06c864ad544d",
   "metadata": {},
   "source": [
    "Отлично! Пропусков нигде нет, нужно будет поработать с типами данных и дубликатами."
   ]
  },
  {
   "cell_type": "markdown",
   "id": "1da09f76-8de7-4f2c-8f33-7e31032d991e",
   "metadata": {},
   "source": [
    "## Предобработка данных"
   ]
  },
  {
   "cell_type": "markdown",
   "id": "5d09d06f-d9c2-481e-b39a-23a35e06ccfd",
   "metadata": {},
   "source": [
    "### Преобразование типов данных"
   ]
  },
  {
   "cell_type": "code",
   "execution_count": 12,
   "id": "5de815f6-59dc-42d8-97bf-a756f7f50698",
   "metadata": {},
   "outputs": [
    {
     "name": "stdout",
     "output_type": "stream",
     "text": [
      "<class 'pandas.core.frame.DataFrame'>\n",
      "RangeIndex: 18068 entries, 0 to 18067\n",
      "Data columns (total 4 columns):\n",
      " #   Column    Non-Null Count  Dtype         \n",
      "---  ------    --------------  -----         \n",
      " 0   user_id   18068 non-null  int64         \n",
      " 1   distance  18068 non-null  float64       \n",
      " 2   duration  18068 non-null  float64       \n",
      " 3   date      18068 non-null  datetime64[ns]\n",
      "dtypes: datetime64[ns](1), float64(2), int64(1)\n",
      "memory usage: 564.8 KB\n"
     ]
    }
   ],
   "source": [
    "rides_data['date'] = pd.to_datetime(rides_data['date'], format='%Y-%m-%d')\n",
    "rides_data.info()"
   ]
  },
  {
   "cell_type": "markdown",
   "id": "9095e20f-ed44-42cf-a1c7-5864bf9472ec",
   "metadata": {},
   "source": [
    "Теперь столбец `date` принадлежит типу данных `datetime`."
   ]
  },
  {
   "cell_type": "code",
   "execution_count": 13,
   "id": "6d3ebf28-666d-4122-ade1-af7e89158086",
   "metadata": {},
   "outputs": [
    {
     "data": {
      "text/html": [
       "<div>\n",
       "<style scoped>\n",
       "    .dataframe tbody tr th:only-of-type {\n",
       "        vertical-align: middle;\n",
       "    }\n",
       "\n",
       "    .dataframe tbody tr th {\n",
       "        vertical-align: top;\n",
       "    }\n",
       "\n",
       "    .dataframe thead th {\n",
       "        text-align: right;\n",
       "    }\n",
       "</style>\n",
       "<table border=\"1\" class=\"dataframe\">\n",
       "  <thead>\n",
       "    <tr style=\"text-align: right;\">\n",
       "      <th></th>\n",
       "      <th>user_id</th>\n",
       "      <th>distance</th>\n",
       "      <th>duration</th>\n",
       "      <th>date</th>\n",
       "      <th>month</th>\n",
       "    </tr>\n",
       "  </thead>\n",
       "  <tbody>\n",
       "    <tr>\n",
       "      <th>0</th>\n",
       "      <td>1</td>\n",
       "      <td>4409.919140</td>\n",
       "      <td>25.599769</td>\n",
       "      <td>2021-01-01</td>\n",
       "      <td>1</td>\n",
       "    </tr>\n",
       "    <tr>\n",
       "      <th>1</th>\n",
       "      <td>1</td>\n",
       "      <td>2617.592153</td>\n",
       "      <td>15.816871</td>\n",
       "      <td>2021-01-18</td>\n",
       "      <td>1</td>\n",
       "    </tr>\n",
       "    <tr>\n",
       "      <th>2</th>\n",
       "      <td>1</td>\n",
       "      <td>754.159807</td>\n",
       "      <td>6.232113</td>\n",
       "      <td>2021-04-20</td>\n",
       "      <td>4</td>\n",
       "    </tr>\n",
       "  </tbody>\n",
       "</table>\n",
       "</div>"
      ],
      "text/plain": [
       "   user_id     distance   duration       date  month\n",
       "0        1  4409.919140  25.599769 2021-01-01      1\n",
       "1        1  2617.592153  15.816871 2021-01-18      1\n",
       "2        1   754.159807   6.232113 2021-04-20      4"
      ]
     },
     "execution_count": 13,
     "metadata": {},
     "output_type": "execute_result"
    }
   ],
   "source": [
    "rides_data['month'] = pd.DatetimeIndex(rides_data['date']).month\n",
    "rides_data.head(3)"
   ]
  },
  {
   "cell_type": "code",
   "execution_count": 14,
   "id": "11b5a65d-1a81-42d2-aab2-0b2bf69fd0b7",
   "metadata": {},
   "outputs": [
    {
     "data": {
      "text/plain": [
       "Index([2021], dtype='int32', name='date')"
      ]
     },
     "execution_count": 14,
     "metadata": {},
     "output_type": "execute_result"
    }
   ],
   "source": [
    "pd.DatetimeIndex(rides_data['date']).year.unique()"
   ]
  },
  {
   "cell_type": "markdown",
   "id": "ecb4015d-21e0-4787-b112-b390210bd510",
   "metadata": {},
   "source": [
    "Отлично, все данные датируются 2021 годом, значит путаницы в месяцах не будет."
   ]
  },
  {
   "cell_type": "markdown",
   "id": "723295f7-a47b-4b39-a1a2-8f05d1246dc2",
   "metadata": {},
   "source": [
    "### Обработка пропусков"
   ]
  },
  {
   "cell_type": "code",
   "execution_count": 15,
   "id": "557623d1-5a34-453d-9bcb-5e70a4a1283d",
   "metadata": {},
   "outputs": [
    {
     "data": {
      "text/plain": [
       "user_id     0\n",
       "distance    0\n",
       "duration    0\n",
       "date        0\n",
       "month       0\n",
       "dtype: int64"
      ]
     },
     "execution_count": 15,
     "metadata": {},
     "output_type": "execute_result"
    }
   ],
   "source": [
    "rides_data.isna().sum()"
   ]
  },
  {
   "cell_type": "code",
   "execution_count": 16,
   "id": "91d13b58-0b32-455d-8a5e-778f5bc3c0cd",
   "metadata": {},
   "outputs": [
    {
     "data": {
      "text/plain": [
       "subscription_type    0\n",
       "minute_price         0\n",
       "start_ride_price     0\n",
       "subscription_fee     0\n",
       "dtype: int64"
      ]
     },
     "execution_count": 16,
     "metadata": {},
     "output_type": "execute_result"
    }
   ],
   "source": [
    "subscriptions_data.isna().sum()"
   ]
  },
  {
   "cell_type": "code",
   "execution_count": 17,
   "id": "52d3ad4e-259a-4191-9f50-c5468d000b7c",
   "metadata": {},
   "outputs": [
    {
     "data": {
      "text/plain": [
       "user_id              0\n",
       "name                 0\n",
       "age                  0\n",
       "city                 0\n",
       "subscription_type    0\n",
       "dtype: int64"
      ]
     },
     "execution_count": 17,
     "metadata": {},
     "output_type": "execute_result"
    }
   ],
   "source": [
    "users_data.isna().sum()"
   ]
  },
  {
   "cell_type": "markdown",
   "id": "3112fb53-4446-48ac-bb74-e728ae7d984f",
   "metadata": {},
   "source": [
    "Замечательно, пропусков действительно нет, как мы и подметили, изучив общую информацию о датафреймах."
   ]
  },
  {
   "cell_type": "markdown",
   "id": "62922420-e6dc-4c66-a85f-7413265d2365",
   "metadata": {},
   "source": [
    "### Обработка дубликатов"
   ]
  },
  {
   "cell_type": "markdown",
   "id": "2189d664-9216-4db1-9125-95315416e775",
   "metadata": {},
   "source": [
    "Не будем проверять наличие дубликатов в датафрейме `subscriptions_data`, там всего две строки, относящиеся к двум разным типам подписок."
   ]
  },
  {
   "cell_type": "code",
   "execution_count": 18,
   "id": "e8f3eee9-757d-4536-ad32-d78a7bc89e33",
   "metadata": {},
   "outputs": [
    {
     "data": {
      "text/plain": [
       "0"
      ]
     },
     "execution_count": 18,
     "metadata": {},
     "output_type": "execute_result"
    }
   ],
   "source": [
    "rides_data.duplicated().sum()"
   ]
  },
  {
   "cell_type": "code",
   "execution_count": 19,
   "id": "663c519b-f7b3-49fe-b4f6-79c6218d1d56",
   "metadata": {},
   "outputs": [
    {
     "data": {
      "text/plain": [
       "31"
      ]
     },
     "execution_count": 19,
     "metadata": {},
     "output_type": "execute_result"
    }
   ],
   "source": [
    "users_data.duplicated().sum()"
   ]
  },
  {
   "cell_type": "code",
   "execution_count": 20,
   "id": "fd4d2da9-e6d7-4683-b0f7-8cbe05a527ee",
   "metadata": {},
   "outputs": [
    {
     "data": {
      "text/plain": [
       "0"
      ]
     },
     "execution_count": 20,
     "metadata": {},
     "output_type": "execute_result"
    }
   ],
   "source": [
    "users_data = users_data.drop_duplicates(keep='first')\n",
    "users_data.duplicated().sum()"
   ]
  },
  {
   "cell_type": "markdown",
   "id": "aa8aeaff-b83d-4f30-b47a-110f118fed40",
   "metadata": {},
   "source": [
    "Дубликатов не осталось, идем дальше."
   ]
  },
  {
   "cell_type": "markdown",
   "id": "02f49fc3-83a7-460a-862b-6c539ded98b9",
   "metadata": {},
   "source": [
    "## Исследовательский анализ данных"
   ]
  },
  {
   "cell_type": "markdown",
   "id": "2a665554-148b-474a-9aee-01e237bb6256",
   "metadata": {},
   "source": [
    "### Частота встречаемости городов"
   ]
  },
  {
   "cell_type": "code",
   "execution_count": 21,
   "id": "cf414eb6-9301-46e2-a120-ead90b2a4a7e",
   "metadata": {},
   "outputs": [
    {
     "data": {
      "text/html": [
       "<div>\n",
       "<style scoped>\n",
       "    .dataframe tbody tr th:only-of-type {\n",
       "        vertical-align: middle;\n",
       "    }\n",
       "\n",
       "    .dataframe tbody tr th {\n",
       "        vertical-align: top;\n",
       "    }\n",
       "\n",
       "    .dataframe thead th {\n",
       "        text-align: right;\n",
       "    }\n",
       "</style>\n",
       "<table border=\"1\" class=\"dataframe\">\n",
       "  <thead>\n",
       "    <tr style=\"text-align: right;\">\n",
       "      <th></th>\n",
       "      <th>count</th>\n",
       "    </tr>\n",
       "    <tr>\n",
       "      <th>city</th>\n",
       "      <th></th>\n",
       "    </tr>\n",
       "  </thead>\n",
       "  <tbody>\n",
       "    <tr>\n",
       "      <th>Пятигорск</th>\n",
       "      <td>219</td>\n",
       "    </tr>\n",
       "    <tr>\n",
       "      <th>Екатеринбург</th>\n",
       "      <td>204</td>\n",
       "    </tr>\n",
       "    <tr>\n",
       "      <th>Ростов-на-Дону</th>\n",
       "      <td>198</td>\n",
       "    </tr>\n",
       "    <tr>\n",
       "      <th>Краснодар</th>\n",
       "      <td>193</td>\n",
       "    </tr>\n",
       "    <tr>\n",
       "      <th>Сочи</th>\n",
       "      <td>189</td>\n",
       "    </tr>\n",
       "    <tr>\n",
       "      <th>Омск</th>\n",
       "      <td>183</td>\n",
       "    </tr>\n",
       "    <tr>\n",
       "      <th>Тюмень</th>\n",
       "      <td>180</td>\n",
       "    </tr>\n",
       "    <tr>\n",
       "      <th>Москва</th>\n",
       "      <td>168</td>\n",
       "    </tr>\n",
       "  </tbody>\n",
       "</table>\n",
       "</div>"
      ],
      "text/plain": [
       "                count\n",
       "city                 \n",
       "Пятигорск         219\n",
       "Екатеринбург      204\n",
       "Ростов-на-Дону    198\n",
       "Краснодар         193\n",
       "Сочи              189\n",
       "Омск              183\n",
       "Тюмень            180\n",
       "Москва            168"
      ]
     },
     "execution_count": 21,
     "metadata": {},
     "output_type": "execute_result"
    }
   ],
   "source": [
    "users_data['city'].value_counts().sort_values(ascending=False).to_frame()"
   ]
  },
  {
   "cell_type": "code",
   "execution_count": 22,
   "id": "e08a3b3a-54c0-495e-a5d0-ec0bac5fae6a",
   "metadata": {},
   "outputs": [
    {
     "data": {
      "image/png": "[encoded data removed]",
      "text/plain": [
       "<Figure size 1000x400 with 1 Axes>"
      ]
     },
     "metadata": {},
     "output_type": "display_data"
    }
   ],
   "source": [
    "ax = users_data['city'].value_counts().plot.bar(figsize=(10,4))\n",
    "plt.xlabel('город')\n",
    "plt.ylabel('частота встречаемости')\n",
    "plt.grid()\n",
    "plt.title('Частота встречаемости городов в данных')\n",
    "plt.legend();"
   ]
  },
  {
   "cell_type": "markdown",
   "id": "9a38ea05-73de-41e6-889f-ee99e7016d9e",
   "metadata": {},
   "source": [
    "**Вывод:** Самый часто встречаемый город пользователей самокатов в таблице - Пятигорск, самый редкий - Москва."
   ]
  },
  {
   "cell_type": "markdown",
   "id": "0dc1f2d8-fb08-4180-ade9-64910f43d16b",
   "metadata": {},
   "source": [
    "### Соотношение пользователей с подпиской и без подписки"
   ]
  },
  {
   "cell_type": "code",
   "execution_count": 23,
   "id": "72b1e60d-56e9-44dd-9c36-9139c169397a",
   "metadata": {},
   "outputs": [
    {
     "data": {
      "text/html": [
       "<div>\n",
       "<style scoped>\n",
       "    .dataframe tbody tr th:only-of-type {\n",
       "        vertical-align: middle;\n",
       "    }\n",
       "\n",
       "    .dataframe tbody tr th {\n",
       "        vertical-align: top;\n",
       "    }\n",
       "\n",
       "    .dataframe thead th {\n",
       "        text-align: right;\n",
       "    }\n",
       "</style>\n",
       "<table border=\"1\" class=\"dataframe\">\n",
       "  <thead>\n",
       "    <tr style=\"text-align: right;\">\n",
       "      <th></th>\n",
       "      <th>count</th>\n",
       "    </tr>\n",
       "    <tr>\n",
       "      <th>subscription_type</th>\n",
       "      <th></th>\n",
       "    </tr>\n",
       "  </thead>\n",
       "  <tbody>\n",
       "    <tr>\n",
       "      <th>free</th>\n",
       "      <td>835</td>\n",
       "    </tr>\n",
       "    <tr>\n",
       "      <th>ultra</th>\n",
       "      <td>699</td>\n",
       "    </tr>\n",
       "  </tbody>\n",
       "</table>\n",
       "</div>"
      ],
      "text/plain": [
       "                   count\n",
       "subscription_type       \n",
       "free                 835\n",
       "ultra                699"
      ]
     },
     "execution_count": 23,
     "metadata": {},
     "output_type": "execute_result"
    }
   ],
   "source": [
    "users_data['subscription_type'].value_counts().to_frame()"
   ]
  },
  {
   "cell_type": "code",
   "execution_count": 24,
   "id": "9effed1c-55f5-43ca-acbc-21a3c2a44c3d",
   "metadata": {},
   "outputs": [
    {
     "data": {
      "image/png": "[encoded data removed]",
      "text/plain": [
       "<Figure size 640x480 with 1 Axes>"
      ]
     },
     "metadata": {},
     "output_type": "display_data"
    }
   ],
   "source": [
    "fig, ax = plt.subplots()\n",
    "ax.pie(users_data['subscription_type'].value_counts(), labels=['free', 'ultra'], autopct='%1.2f%%')\n",
    "plt.title('Соотношение пользователей ultra и без подписки')\n",
    "plt.legend();"
   ]
  },
  {
   "cell_type": "markdown",
   "id": "5893f54b-b8d1-4f70-9959-6655d50bf5e0",
   "metadata": {},
   "source": [
    "**Вывод:** Пользователей без подписки на 9% больше, чем пользователей с подпиской."
   ]
  },
  {
   "cell_type": "markdown",
   "id": "1bf846d3-1c2d-48b6-90d5-6e8d2ee2a676",
   "metadata": {},
   "source": [
    "### Возраст пользователей"
   ]
  },
  {
   "cell_type": "code",
   "execution_count": 25,
   "id": "dbe303c8-0507-451c-85b6-df53b0d22afe",
   "metadata": {},
   "outputs": [
    {
     "data": {
      "image/png": "[encoded data removed]",
      "text/plain": [
       "<Figure size 1500x600 with 1 Axes>"
      ]
     },
     "metadata": {},
     "output_type": "display_data"
    }
   ],
   "source": [
    "users_data['age'].plot(kind = 'hist', figsize = (15,6), bins = 30);\n",
    "plt.xlabel('возраст')\n",
    "plt.ylabel('частота встречаемости')\n",
    "plt.grid()\n",
    "plt.title('Количество пользователей разных возрастов')\n",
    "plt.legend();"
   ]
  },
  {
   "cell_type": "markdown",
   "id": "f605b9a5-a2c2-4224-bc18-33437fbd7b1e",
   "metadata": {},
   "source": [
    "**Вывод:** Чаще всего сервис аренды самокатов используют люди в возрасте от 20 до 30 лет, реже других - дети и взрослые около 40 лет."
   ]
  },
  {
   "cell_type": "markdown",
   "id": "acc41844-6699-4517-84f3-ac50340264e7",
   "metadata": {},
   "source": [
    "### Расстояние, которое пользователь преодолел за одну поездку"
   ]
  },
  {
   "cell_type": "code",
   "execution_count": 26,
   "id": "40a100ce-a1f3-4da6-bd78-8e197419c76e",
   "metadata": {},
   "outputs": [
    {
     "data": {
      "text/html": [
       "<div>\n",
       "<style scoped>\n",
       "    .dataframe tbody tr th:only-of-type {\n",
       "        vertical-align: middle;\n",
       "    }\n",
       "\n",
       "    .dataframe tbody tr th {\n",
       "        vertical-align: top;\n",
       "    }\n",
       "\n",
       "    .dataframe thead th {\n",
       "        text-align: right;\n",
       "    }\n",
       "</style>\n",
       "<table border=\"1\" class=\"dataframe\">\n",
       "  <thead>\n",
       "    <tr style=\"text-align: right;\">\n",
       "      <th></th>\n",
       "      <th>distance</th>\n",
       "    </tr>\n",
       "  </thead>\n",
       "  <tbody>\n",
       "    <tr>\n",
       "      <th>count</th>\n",
       "      <td>18068.000000</td>\n",
       "    </tr>\n",
       "    <tr>\n",
       "      <th>mean</th>\n",
       "      <td>3070.659976</td>\n",
       "    </tr>\n",
       "    <tr>\n",
       "      <th>std</th>\n",
       "      <td>1116.831209</td>\n",
       "    </tr>\n",
       "    <tr>\n",
       "      <th>min</th>\n",
       "      <td>0.855683</td>\n",
       "    </tr>\n",
       "    <tr>\n",
       "      <th>25%</th>\n",
       "      <td>2543.226360</td>\n",
       "    </tr>\n",
       "    <tr>\n",
       "      <th>50%</th>\n",
       "      <td>3133.609994</td>\n",
       "    </tr>\n",
       "    <tr>\n",
       "      <th>75%</th>\n",
       "      <td>3776.222735</td>\n",
       "    </tr>\n",
       "    <tr>\n",
       "      <th>max</th>\n",
       "      <td>7211.007745</td>\n",
       "    </tr>\n",
       "  </tbody>\n",
       "</table>\n",
       "</div>"
      ],
      "text/plain": [
       "           distance\n",
       "count  18068.000000\n",
       "mean    3070.659976\n",
       "std     1116.831209\n",
       "min        0.855683\n",
       "25%     2543.226360\n",
       "50%     3133.609994\n",
       "75%     3776.222735\n",
       "max     7211.007745"
      ]
     },
     "execution_count": 26,
     "metadata": {},
     "output_type": "execute_result"
    }
   ],
   "source": [
    "rides_data['distance'].describe().to_frame()"
   ]
  },
  {
   "cell_type": "code",
   "execution_count": 27,
   "id": "f8607fa1-0ab8-4fdd-a6f0-7c8eb6c8431c",
   "metadata": {},
   "outputs": [
    {
     "data": {
      "text/html": [
       "<div>\n",
       "<style scoped>\n",
       "    .dataframe tbody tr th:only-of-type {\n",
       "        vertical-align: middle;\n",
       "    }\n",
       "\n",
       "    .dataframe tbody tr th {\n",
       "        vertical-align: top;\n",
       "    }\n",
       "\n",
       "    .dataframe thead th {\n",
       "        text-align: right;\n",
       "    }\n",
       "</style>\n",
       "<table border=\"1\" class=\"dataframe\">\n",
       "  <thead>\n",
       "    <tr style=\"text-align: right;\">\n",
       "      <th></th>\n",
       "      <th>user_id</th>\n",
       "      <th>distance</th>\n",
       "      <th>duration</th>\n",
       "      <th>date</th>\n",
       "      <th>month</th>\n",
       "      <th>distance_km</th>\n",
       "    </tr>\n",
       "  </thead>\n",
       "  <tbody>\n",
       "    <tr>\n",
       "      <th>0</th>\n",
       "      <td>1</td>\n",
       "      <td>4409.919140</td>\n",
       "      <td>25.599769</td>\n",
       "      <td>2021-01-01</td>\n",
       "      <td>1</td>\n",
       "      <td>4.4</td>\n",
       "    </tr>\n",
       "    <tr>\n",
       "      <th>1</th>\n",
       "      <td>1</td>\n",
       "      <td>2617.592153</td>\n",
       "      <td>15.816871</td>\n",
       "      <td>2021-01-18</td>\n",
       "      <td>1</td>\n",
       "      <td>2.6</td>\n",
       "    </tr>\n",
       "    <tr>\n",
       "      <th>2</th>\n",
       "      <td>1</td>\n",
       "      <td>754.159807</td>\n",
       "      <td>6.232113</td>\n",
       "      <td>2021-04-20</td>\n",
       "      <td>4</td>\n",
       "      <td>0.8</td>\n",
       "    </tr>\n",
       "    <tr>\n",
       "      <th>3</th>\n",
       "      <td>1</td>\n",
       "      <td>2694.783254</td>\n",
       "      <td>18.511000</td>\n",
       "      <td>2021-08-11</td>\n",
       "      <td>8</td>\n",
       "      <td>2.7</td>\n",
       "    </tr>\n",
       "    <tr>\n",
       "      <th>4</th>\n",
       "      <td>1</td>\n",
       "      <td>4028.687306</td>\n",
       "      <td>26.265803</td>\n",
       "      <td>2021-08-28</td>\n",
       "      <td>8</td>\n",
       "      <td>4.0</td>\n",
       "    </tr>\n",
       "  </tbody>\n",
       "</table>\n",
       "</div>"
      ],
      "text/plain": [
       "   user_id     distance   duration       date  month  distance_km\n",
       "0        1  4409.919140  25.599769 2021-01-01      1          4.4\n",
       "1        1  2617.592153  15.816871 2021-01-18      1          2.6\n",
       "2        1   754.159807   6.232113 2021-04-20      4          0.8\n",
       "3        1  2694.783254  18.511000 2021-08-11      8          2.7\n",
       "4        1  4028.687306  26.265803 2021-08-28      8          4.0"
      ]
     },
     "execution_count": 27,
     "metadata": {},
     "output_type": "execute_result"
    }
   ],
   "source": [
    "rides_data['distance_km'] = round(rides_data['distance'] / 1000, 1)\n",
    "rides_data.head()"
   ]
  },
  {
   "cell_type": "code",
   "execution_count": 28,
   "id": "c9cb8445-cb53-408a-8e19-3c4878168e01",
   "metadata": {},
   "outputs": [
    {
     "data": {
      "image/png": "[encoded data removed]",
      "text/plain": [
       "<Figure size 1000x400 with 1 Axes>"
      ]
     },
     "metadata": {},
     "output_type": "display_data"
    }
   ],
   "source": [
    "plt.xlabel('дистанция')\n",
    "plt.ylabel('частота встречаемости')\n",
    "rides_data['distance'].hist(figsize = (10, 4), bins = 20)\n",
    "plt.title('Расстояние, проезжаемое пользователями за одну поездку');"
   ]
  },
  {
   "cell_type": "code",
   "execution_count": 29,
   "id": "4ac793c6-b122-4ac1-aeba-9739f6449429",
   "metadata": {},
   "outputs": [
    {
     "data": {
      "image/png": "[encoded data removed]",
      "text/plain": [
       "<Figure size 1000x400 with 1 Axes>"
      ]
     },
     "metadata": {},
     "output_type": "display_data"
    }
   ],
   "source": [
    "plt.xlabel('дистанция в километрах')\n",
    "plt.ylabel('частота встречаемости')\n",
    "rides_data['distance_km'].hist(figsize = (10, 4), bins = 20)\n",
    "plt.title('Расстояние, проезжаемое пользователями за одну поездку');"
   ]
  },
  {
   "cell_type": "markdown",
   "id": "1c6f822a-563a-4ac2-90df-de25f20bea88",
   "metadata": {},
   "source": [
    "**Вывод:** В большинстве случаев пользователи проезжают на самокатах около 3 километров, основная масса арендаторов проходит путь от 2 до 4,5 километров, больше 5 км проезжают немногие. Среди тех, чья дистанция короче 2 километров, наиболее распространены маршруты по 500 метров."
   ]
  },
  {
   "cell_type": "markdown",
   "id": "9f0e2377-d4b8-439b-b4d6-232611bba355",
   "metadata": {},
   "source": [
    "### Продолжительность поездок"
   ]
  },
  {
   "cell_type": "code",
   "execution_count": 30,
   "id": "0a25828b-1716-4091-ae86-e5500b6dc140",
   "metadata": {},
   "outputs": [
    {
     "data": {
      "text/html": [
       "<div>\n",
       "<style scoped>\n",
       "    .dataframe tbody tr th:only-of-type {\n",
       "        vertical-align: middle;\n",
       "    }\n",
       "\n",
       "    .dataframe tbody tr th {\n",
       "        vertical-align: top;\n",
       "    }\n",
       "\n",
       "    .dataframe thead th {\n",
       "        text-align: right;\n",
       "    }\n",
       "</style>\n",
       "<table border=\"1\" class=\"dataframe\">\n",
       "  <thead>\n",
       "    <tr style=\"text-align: right;\">\n",
       "      <th></th>\n",
       "      <th>duration</th>\n",
       "    </tr>\n",
       "  </thead>\n",
       "  <tbody>\n",
       "    <tr>\n",
       "      <th>count</th>\n",
       "      <td>18068.000000</td>\n",
       "    </tr>\n",
       "    <tr>\n",
       "      <th>mean</th>\n",
       "      <td>17.805011</td>\n",
       "    </tr>\n",
       "    <tr>\n",
       "      <th>std</th>\n",
       "      <td>6.091051</td>\n",
       "    </tr>\n",
       "    <tr>\n",
       "      <th>min</th>\n",
       "      <td>0.500000</td>\n",
       "    </tr>\n",
       "    <tr>\n",
       "      <th>25%</th>\n",
       "      <td>13.597563</td>\n",
       "    </tr>\n",
       "    <tr>\n",
       "      <th>50%</th>\n",
       "      <td>17.678395</td>\n",
       "    </tr>\n",
       "    <tr>\n",
       "      <th>75%</th>\n",
       "      <td>21.724800</td>\n",
       "    </tr>\n",
       "    <tr>\n",
       "      <th>max</th>\n",
       "      <td>40.823963</td>\n",
       "    </tr>\n",
       "  </tbody>\n",
       "</table>\n",
       "</div>"
      ],
      "text/plain": [
       "           duration\n",
       "count  18068.000000\n",
       "mean      17.805011\n",
       "std        6.091051\n",
       "min        0.500000\n",
       "25%       13.597563\n",
       "50%       17.678395\n",
       "75%       21.724800\n",
       "max       40.823963"
      ]
     },
     "execution_count": 30,
     "metadata": {},
     "output_type": "execute_result"
    }
   ],
   "source": [
    "rides_data['duration'].describe().to_frame()"
   ]
  },
  {
   "cell_type": "markdown",
   "id": "edcdd190-4778-4ea3-8b58-bcaa2640540b",
   "metadata": {},
   "source": [
    "Медиана и среднее арифметическое практически совпадают, значит распределение симметрично относительно медианы и близко к нормальному."
   ]
  },
  {
   "cell_type": "code",
   "execution_count": 31,
   "id": "7f6fac4a-2b72-4e88-b837-8d568462d2b2",
   "metadata": {},
   "outputs": [
    {
     "data": {
      "image/png": "[encoded data removed]",
      "text/plain": [
       "<Figure size 1000x400 with 1 Axes>"
      ]
     },
     "metadata": {},
     "output_type": "display_data"
    }
   ],
   "source": [
    "plt.xlabel('время поездки')\n",
    "plt.ylabel('частота встречаемости')\n",
    "rides_data['duration'].hist(figsize = (10, 4), bins = 40)\n",
    "plt.title('Время, затрачиваемое пользователями на одну поездку');"
   ]
  },
  {
   "cell_type": "code",
   "execution_count": 32,
   "id": "46c23d7a-1f10-425e-8fb4-da75f0001f5e",
   "metadata": {},
   "outputs": [
    {
     "data": {
      "image/png": "[encoded data removed]",
      "text/plain": [
       "<Figure size 1700x200 with 1 Axes>"
      ]
     },
     "metadata": {},
     "output_type": "display_data"
    }
   ],
   "source": [
    "fig, ax = plt.subplots(figsize = (17,2))\n",
    "ax = rides_data[['duration']].boxplot(vert=False, ax=ax)\n",
    "ax.set_title('Диаграмма размаха длительности одной поездки')\n",
    "ax.set_xlim(0, 45);"
   ]
  },
  {
   "cell_type": "markdown",
   "id": "d0f4e25e-58e9-47e1-9353-a594084b7847",
   "metadata": {},
   "source": [
    "**Вывод:** В среднем, люди тратят на поездку 17-18 минут, время поездки в большинстве случаев почти прямо пропорционально дистанции, что хорошо видно по графику, больше 30 минут люди редко затрачивают на путь, меньше 5-7 минут тоже редко, значения больше 34 и меньше 2 - выбросы."
   ]
  },
  {
   "cell_type": "markdown",
   "id": "d01265f8-e593-4533-a528-48f880a0d706",
   "metadata": {},
   "source": [
    "## Объединение данных"
   ]
  },
  {
   "cell_type": "markdown",
   "id": "7c5d7ef5-9579-47be-9ad5-c4a132ce7d4e",
   "metadata": {},
   "source": [
    "### Объединение датафреймов"
   ]
  },
  {
   "cell_type": "markdown",
   "id": "9e775f12-a5d2-4999-85c6-d874b34c6730",
   "metadata": {},
   "source": [
    "Объединим 3 датафрейма в один и выведем первые 5 строк таблицы, чтобы убедиться, что все сработало:"
   ]
  },
  {
   "cell_type": "code",
   "execution_count": 33,
   "id": "62e132ab-81c9-4b47-a504-1c9a6633091f",
   "metadata": {},
   "outputs": [
    {
     "data": {
      "text/html": [
       "<div>\n",
       "<style scoped>\n",
       "    .dataframe tbody tr th:only-of-type {\n",
       "        vertical-align: middle;\n",
       "    }\n",
       "\n",
       "    .dataframe tbody tr th {\n",
       "        vertical-align: top;\n",
       "    }\n",
       "\n",
       "    .dataframe thead th {\n",
       "        text-align: right;\n",
       "    }\n",
       "</style>\n",
       "<table border=\"1\" class=\"dataframe\">\n",
       "  <thead>\n",
       "    <tr style=\"text-align: right;\">\n",
       "      <th></th>\n",
       "      <th>user_id</th>\n",
       "      <th>name</th>\n",
       "      <th>age</th>\n",
       "      <th>city</th>\n",
       "      <th>subscription_type</th>\n",
       "      <th>distance</th>\n",
       "      <th>duration</th>\n",
       "      <th>date</th>\n",
       "      <th>month</th>\n",
       "      <th>distance_km</th>\n",
       "      <th>minute_price</th>\n",
       "      <th>start_ride_price</th>\n",
       "      <th>subscription_fee</th>\n",
       "    </tr>\n",
       "  </thead>\n",
       "  <tbody>\n",
       "    <tr>\n",
       "      <th>0</th>\n",
       "      <td>1</td>\n",
       "      <td>Кира</td>\n",
       "      <td>22</td>\n",
       "      <td>Тюмень</td>\n",
       "      <td>ultra</td>\n",
       "      <td>4409.919140</td>\n",
       "      <td>25.599769</td>\n",
       "      <td>2021-01-01</td>\n",
       "      <td>1</td>\n",
       "      <td>4.4</td>\n",
       "      <td>6</td>\n",
       "      <td>0</td>\n",
       "      <td>199</td>\n",
       "    </tr>\n",
       "    <tr>\n",
       "      <th>1</th>\n",
       "      <td>1</td>\n",
       "      <td>Кира</td>\n",
       "      <td>22</td>\n",
       "      <td>Тюмень</td>\n",
       "      <td>ultra</td>\n",
       "      <td>2617.592153</td>\n",
       "      <td>15.816871</td>\n",
       "      <td>2021-01-18</td>\n",
       "      <td>1</td>\n",
       "      <td>2.6</td>\n",
       "      <td>6</td>\n",
       "      <td>0</td>\n",
       "      <td>199</td>\n",
       "    </tr>\n",
       "    <tr>\n",
       "      <th>2</th>\n",
       "      <td>1</td>\n",
       "      <td>Кира</td>\n",
       "      <td>22</td>\n",
       "      <td>Тюмень</td>\n",
       "      <td>ultra</td>\n",
       "      <td>754.159807</td>\n",
       "      <td>6.232113</td>\n",
       "      <td>2021-04-20</td>\n",
       "      <td>4</td>\n",
       "      <td>0.8</td>\n",
       "      <td>6</td>\n",
       "      <td>0</td>\n",
       "      <td>199</td>\n",
       "    </tr>\n",
       "    <tr>\n",
       "      <th>3</th>\n",
       "      <td>1</td>\n",
       "      <td>Кира</td>\n",
       "      <td>22</td>\n",
       "      <td>Тюмень</td>\n",
       "      <td>ultra</td>\n",
       "      <td>2694.783254</td>\n",
       "      <td>18.511000</td>\n",
       "      <td>2021-08-11</td>\n",
       "      <td>8</td>\n",
       "      <td>2.7</td>\n",
       "      <td>6</td>\n",
       "      <td>0</td>\n",
       "      <td>199</td>\n",
       "    </tr>\n",
       "    <tr>\n",
       "      <th>4</th>\n",
       "      <td>1</td>\n",
       "      <td>Кира</td>\n",
       "      <td>22</td>\n",
       "      <td>Тюмень</td>\n",
       "      <td>ultra</td>\n",
       "      <td>4028.687306</td>\n",
       "      <td>26.265803</td>\n",
       "      <td>2021-08-28</td>\n",
       "      <td>8</td>\n",
       "      <td>4.0</td>\n",
       "      <td>6</td>\n",
       "      <td>0</td>\n",
       "      <td>199</td>\n",
       "    </tr>\n",
       "  </tbody>\n",
       "</table>\n",
       "</div>"
      ],
      "text/plain": [
       "   user_id  name  age    city subscription_type     distance   duration  \\\n",
       "0        1  Кира   22  Тюмень             ultra  4409.919140  25.599769   \n",
       "1        1  Кира   22  Тюмень             ultra  2617.592153  15.816871   \n",
       "2        1  Кира   22  Тюмень             ultra   754.159807   6.232113   \n",
       "3        1  Кира   22  Тюмень             ultra  2694.783254  18.511000   \n",
       "4        1  Кира   22  Тюмень             ultra  4028.687306  26.265803   \n",
       "\n",
       "        date  month  distance_km  minute_price  start_ride_price  \\\n",
       "0 2021-01-01      1          4.4             6                 0   \n",
       "1 2021-01-18      1          2.6             6                 0   \n",
       "2 2021-04-20      4          0.8             6                 0   \n",
       "3 2021-08-11      8          2.7             6                 0   \n",
       "4 2021-08-28      8          4.0             6                 0   \n",
       "\n",
       "   subscription_fee  \n",
       "0               199  \n",
       "1               199  \n",
       "2               199  \n",
       "3               199  \n",
       "4               199  "
      ]
     },
     "execution_count": 33,
     "metadata": {},
     "output_type": "execute_result"
    }
   ],
   "source": [
    "data = users_data.merge(rides_data, on='user_id', how='left')\n",
    "data = data.merge(subscriptions_data, on='subscription_type', how='left')\n",
    "data.head()"
   ]
  },
  {
   "cell_type": "markdown",
   "id": "043e5041-af7c-4424-bffc-25de073dc22b",
   "metadata": {},
   "source": [
    "Проверим размерность исходного датафрейма - `rides_data`, так как к нему мы присоединяли остальные столбцы, а также размер результирующего `data` - они должны совпадать:"
   ]
  },
  {
   "cell_type": "code",
   "execution_count": 34,
   "id": "f7c77968-1cdc-4e7c-b1b8-dc885855291a",
   "metadata": {},
   "outputs": [
    {
     "name": "stdout",
     "output_type": "stream",
     "text": [
      "Объединение прошло успешно\n"
     ]
    }
   ],
   "source": [
    "if rides_data.shape[0] == data.shape[0]:\n",
    "    print('Объединение прошло успешно')\n",
    "else:\n",
    "    print('Объединение неверно')"
   ]
  },
  {
   "cell_type": "markdown",
   "id": "f24e1373-775a-423b-a116-99e0f1703e14",
   "metadata": {},
   "source": [
    "### Создание 2 дополнительных датафреймов"
   ]
  },
  {
   "cell_type": "code",
   "execution_count": 35,
   "id": "7c04f26a-f889-4cb4-9536-f4fc755d3ee4",
   "metadata": {},
   "outputs": [
    {
     "data": {
      "text/html": [
       "<div>\n",
       "<style scoped>\n",
       "    .dataframe tbody tr th:only-of-type {\n",
       "        vertical-align: middle;\n",
       "    }\n",
       "\n",
       "    .dataframe tbody tr th {\n",
       "        vertical-align: top;\n",
       "    }\n",
       "\n",
       "    .dataframe thead th {\n",
       "        text-align: right;\n",
       "    }\n",
       "</style>\n",
       "<table border=\"1\" class=\"dataframe\">\n",
       "  <thead>\n",
       "    <tr style=\"text-align: right;\">\n",
       "      <th></th>\n",
       "      <th>user_id</th>\n",
       "      <th>name</th>\n",
       "      <th>age</th>\n",
       "      <th>city</th>\n",
       "      <th>subscription_type</th>\n",
       "      <th>distance</th>\n",
       "      <th>duration</th>\n",
       "      <th>date</th>\n",
       "      <th>month</th>\n",
       "      <th>distance_km</th>\n",
       "      <th>minute_price</th>\n",
       "      <th>start_ride_price</th>\n",
       "      <th>subscription_fee</th>\n",
       "    </tr>\n",
       "  </thead>\n",
       "  <tbody>\n",
       "    <tr>\n",
       "      <th>0</th>\n",
       "      <td>700</td>\n",
       "      <td>Айдар</td>\n",
       "      <td>22</td>\n",
       "      <td>Омск</td>\n",
       "      <td>free</td>\n",
       "      <td>2515.690719</td>\n",
       "      <td>14.944286</td>\n",
       "      <td>2021-01-02</td>\n",
       "      <td>1</td>\n",
       "      <td>2.5</td>\n",
       "      <td>8</td>\n",
       "      <td>50</td>\n",
       "      <td>0</td>\n",
       "    </tr>\n",
       "    <tr>\n",
       "      <th>1</th>\n",
       "      <td>700</td>\n",
       "      <td>Айдар</td>\n",
       "      <td>22</td>\n",
       "      <td>Омск</td>\n",
       "      <td>free</td>\n",
       "      <td>846.932642</td>\n",
       "      <td>16.234663</td>\n",
       "      <td>2021-02-01</td>\n",
       "      <td>2</td>\n",
       "      <td>0.8</td>\n",
       "      <td>8</td>\n",
       "      <td>50</td>\n",
       "      <td>0</td>\n",
       "    </tr>\n",
       "    <tr>\n",
       "      <th>2</th>\n",
       "      <td>700</td>\n",
       "      <td>Айдар</td>\n",
       "      <td>22</td>\n",
       "      <td>Омск</td>\n",
       "      <td>free</td>\n",
       "      <td>4004.434142</td>\n",
       "      <td>20.016628</td>\n",
       "      <td>2021-02-04</td>\n",
       "      <td>2</td>\n",
       "      <td>4.0</td>\n",
       "      <td>8</td>\n",
       "      <td>50</td>\n",
       "      <td>0</td>\n",
       "    </tr>\n",
       "    <tr>\n",
       "      <th>3</th>\n",
       "      <td>700</td>\n",
       "      <td>Айдар</td>\n",
       "      <td>22</td>\n",
       "      <td>Омск</td>\n",
       "      <td>free</td>\n",
       "      <td>1205.911290</td>\n",
       "      <td>9.782872</td>\n",
       "      <td>2021-02-10</td>\n",
       "      <td>2</td>\n",
       "      <td>1.2</td>\n",
       "      <td>8</td>\n",
       "      <td>50</td>\n",
       "      <td>0</td>\n",
       "    </tr>\n",
       "    <tr>\n",
       "      <th>4</th>\n",
       "      <td>700</td>\n",
       "      <td>Айдар</td>\n",
       "      <td>22</td>\n",
       "      <td>Омск</td>\n",
       "      <td>free</td>\n",
       "      <td>3047.379435</td>\n",
       "      <td>17.427673</td>\n",
       "      <td>2021-02-14</td>\n",
       "      <td>2</td>\n",
       "      <td>3.0</td>\n",
       "      <td>8</td>\n",
       "      <td>50</td>\n",
       "      <td>0</td>\n",
       "    </tr>\n",
       "  </tbody>\n",
       "</table>\n",
       "</div>"
      ],
      "text/plain": [
       "   user_id   name  age  city subscription_type     distance   duration  \\\n",
       "0      700  Айдар   22  Омск              free  2515.690719  14.944286   \n",
       "1      700  Айдар   22  Омск              free   846.932642  16.234663   \n",
       "2      700  Айдар   22  Омск              free  4004.434142  20.016628   \n",
       "3      700  Айдар   22  Омск              free  1205.911290   9.782872   \n",
       "4      700  Айдар   22  Омск              free  3047.379435  17.427673   \n",
       "\n",
       "        date  month  distance_km  minute_price  start_ride_price  \\\n",
       "0 2021-01-02      1          2.5             8                50   \n",
       "1 2021-02-01      2          0.8             8                50   \n",
       "2 2021-02-04      2          4.0             8                50   \n",
       "3 2021-02-10      2          1.2             8                50   \n",
       "4 2021-02-14      2          3.0             8                50   \n",
       "\n",
       "   subscription_fee  \n",
       "0                 0  \n",
       "1                 0  \n",
       "2                 0  \n",
       "3                 0  \n",
       "4                 0  "
      ]
     },
     "execution_count": 35,
     "metadata": {},
     "output_type": "execute_result"
    }
   ],
   "source": [
    "free_users = data[data['subscription_type'] == 'free'].reset_index(drop=True)\n",
    "free_users.head()"
   ]
  },
  {
   "cell_type": "code",
   "execution_count": 36,
   "id": "c3ffa0a5-5f48-4157-8aea-29009d5dc2a1",
   "metadata": {},
   "outputs": [
    {
     "data": {
      "text/html": [
       "<div>\n",
       "<style scoped>\n",
       "    .dataframe tbody tr th:only-of-type {\n",
       "        vertical-align: middle;\n",
       "    }\n",
       "\n",
       "    .dataframe tbody tr th {\n",
       "        vertical-align: top;\n",
       "    }\n",
       "\n",
       "    .dataframe thead th {\n",
       "        text-align: right;\n",
       "    }\n",
       "</style>\n",
       "<table border=\"1\" class=\"dataframe\">\n",
       "  <thead>\n",
       "    <tr style=\"text-align: right;\">\n",
       "      <th></th>\n",
       "      <th>user_id</th>\n",
       "      <th>name</th>\n",
       "      <th>age</th>\n",
       "      <th>city</th>\n",
       "      <th>subscription_type</th>\n",
       "      <th>distance</th>\n",
       "      <th>duration</th>\n",
       "      <th>date</th>\n",
       "      <th>month</th>\n",
       "      <th>distance_km</th>\n",
       "      <th>minute_price</th>\n",
       "      <th>start_ride_price</th>\n",
       "      <th>subscription_fee</th>\n",
       "    </tr>\n",
       "  </thead>\n",
       "  <tbody>\n",
       "    <tr>\n",
       "      <th>0</th>\n",
       "      <td>1</td>\n",
       "      <td>Кира</td>\n",
       "      <td>22</td>\n",
       "      <td>Тюмень</td>\n",
       "      <td>ultra</td>\n",
       "      <td>4409.919140</td>\n",
       "      <td>25.599769</td>\n",
       "      <td>2021-01-01</td>\n",
       "      <td>1</td>\n",
       "      <td>4.4</td>\n",
       "      <td>6</td>\n",
       "      <td>0</td>\n",
       "      <td>199</td>\n",
       "    </tr>\n",
       "    <tr>\n",
       "      <th>1</th>\n",
       "      <td>1</td>\n",
       "      <td>Кира</td>\n",
       "      <td>22</td>\n",
       "      <td>Тюмень</td>\n",
       "      <td>ultra</td>\n",
       "      <td>2617.592153</td>\n",
       "      <td>15.816871</td>\n",
       "      <td>2021-01-18</td>\n",
       "      <td>1</td>\n",
       "      <td>2.6</td>\n",
       "      <td>6</td>\n",
       "      <td>0</td>\n",
       "      <td>199</td>\n",
       "    </tr>\n",
       "    <tr>\n",
       "      <th>2</th>\n",
       "      <td>1</td>\n",
       "      <td>Кира</td>\n",
       "      <td>22</td>\n",
       "      <td>Тюмень</td>\n",
       "      <td>ultra</td>\n",
       "      <td>754.159807</td>\n",
       "      <td>6.232113</td>\n",
       "      <td>2021-04-20</td>\n",
       "      <td>4</td>\n",
       "      <td>0.8</td>\n",
       "      <td>6</td>\n",
       "      <td>0</td>\n",
       "      <td>199</td>\n",
       "    </tr>\n",
       "    <tr>\n",
       "      <th>3</th>\n",
       "      <td>1</td>\n",
       "      <td>Кира</td>\n",
       "      <td>22</td>\n",
       "      <td>Тюмень</td>\n",
       "      <td>ultra</td>\n",
       "      <td>2694.783254</td>\n",
       "      <td>18.511000</td>\n",
       "      <td>2021-08-11</td>\n",
       "      <td>8</td>\n",
       "      <td>2.7</td>\n",
       "      <td>6</td>\n",
       "      <td>0</td>\n",
       "      <td>199</td>\n",
       "    </tr>\n",
       "    <tr>\n",
       "      <th>4</th>\n",
       "      <td>1</td>\n",
       "      <td>Кира</td>\n",
       "      <td>22</td>\n",
       "      <td>Тюмень</td>\n",
       "      <td>ultra</td>\n",
       "      <td>4028.687306</td>\n",
       "      <td>26.265803</td>\n",
       "      <td>2021-08-28</td>\n",
       "      <td>8</td>\n",
       "      <td>4.0</td>\n",
       "      <td>6</td>\n",
       "      <td>0</td>\n",
       "      <td>199</td>\n",
       "    </tr>\n",
       "  </tbody>\n",
       "</table>\n",
       "</div>"
      ],
      "text/plain": [
       "   user_id  name  age    city subscription_type     distance   duration  \\\n",
       "0        1  Кира   22  Тюмень             ultra  4409.919140  25.599769   \n",
       "1        1  Кира   22  Тюмень             ultra  2617.592153  15.816871   \n",
       "2        1  Кира   22  Тюмень             ultra   754.159807   6.232113   \n",
       "3        1  Кира   22  Тюмень             ultra  2694.783254  18.511000   \n",
       "4        1  Кира   22  Тюмень             ultra  4028.687306  26.265803   \n",
       "\n",
       "        date  month  distance_km  minute_price  start_ride_price  \\\n",
       "0 2021-01-01      1          4.4             6                 0   \n",
       "1 2021-01-18      1          2.6             6                 0   \n",
       "2 2021-04-20      4          0.8             6                 0   \n",
       "3 2021-08-11      8          2.7             6                 0   \n",
       "4 2021-08-28      8          4.0             6                 0   \n",
       "\n",
       "   subscription_fee  \n",
       "0               199  \n",
       "1               199  \n",
       "2               199  \n",
       "3               199  \n",
       "4               199  "
      ]
     },
     "execution_count": 36,
     "metadata": {},
     "output_type": "execute_result"
    }
   ],
   "source": [
    "ultra_users = data[data['subscription_type'] == 'ultra'].reset_index(drop=True)\n",
    "ultra_users.head()"
   ]
  },
  {
   "cell_type": "markdown",
   "id": "4559ea53-4529-4fec-b3b0-5f90c2aa1f9f",
   "metadata": {},
   "source": [
    "Создали еще два датафрейма для пользователей без подписки - `free_users` и с подпиской - `ultra_users`. Проверим, что размерности этих двух датафреймов в сумме дают размер исходной таблицы:"
   ]
  },
  {
   "cell_type": "code",
   "execution_count": 37,
   "id": "cb8fa81a-0272-46a8-910f-6351fdeaa518",
   "metadata": {},
   "outputs": [
    {
     "name": "stdout",
     "output_type": "stream",
     "text": [
      "Объединение прошло успешно\n"
     ]
    }
   ],
   "source": [
    "if free_users.shape[0] + ultra_users.shape[0] == data.shape[0]:\n",
    "    print('Объединение прошло успешно')\n",
    "else:\n",
    "    print('Объединение неверно')"
   ]
  },
  {
   "cell_type": "markdown",
   "id": "7d400d2c-c498-4cb1-b2a4-229c2f8a9a2f",
   "metadata": {},
   "source": [
    "### Расстояние и время поездок для пользователей с разными типами подписок"
   ]
  },
  {
   "cell_type": "markdown",
   "id": "719037cc-fc24-404d-bc3a-ab6d327a0815",
   "metadata": {},
   "source": [
    "Построим гистограммы на одном графике отдельно для дистанции и времени поездки у пользователей двух категорий, чтобы разница была нагляднее:"
   ]
  },
  {
   "cell_type": "code",
   "execution_count": 38,
   "id": "a4b4dc1d-a4cc-4fa6-b5b7-53e6ff62d238",
   "metadata": {},
   "outputs": [
    {
     "data": {
      "image/png": "[encoded data removed]",
      "text/plain": [
       "<Figure size 1000x400 with 1 Axes>"
      ]
     },
     "metadata": {},
     "output_type": "display_data"
    }
   ],
   "source": [
    "plt.xlabel('дистанция в метрах')\n",
    "plt.ylabel('частота встречаемости')\n",
    "plt.title('Расстояние, проезжаемое пользователями с разными подписками за одну поездку')\n",
    "ultra_users['distance'].hist(\n",
    "    figsize = (10, 4),\n",
    "    bins = 20,\n",
    "    color = 'black'\n",
    ");\n",
    "\n",
    "free_users['distance'].hist(\n",
    "    figsize = (10, 4),\n",
    "    bins = 20,\n",
    "    alpha = 0.5\n",
    ");"
   ]
  },
  {
   "cell_type": "markdown",
   "id": "2844877f-0932-4166-ada3-a0a6a38fe0c9",
   "metadata": {},
   "source": [
    "**Вывод:** Как минимум, пользователей без подписки больше, именно они задают пиковое значение в точке 500 метров и проезжают дистанции вплоть до 7 километров, еще один пик приходится на 2500 метров. У пользователей с подпиской нет историй с маршрутом длинее 5500 метров, пик в райное 3 километров, а также небольшой в точке 1 километр. В целом, значения распределены схожим образом у обоих типов пользователей."
   ]
  },
  {
   "cell_type": "code",
   "execution_count": 39,
   "id": "2070a25c-d50f-4269-87a4-edab54328571",
   "metadata": {},
   "outputs": [
    {
     "data": {
      "image/png": "[encoded data removed]",
      "text/plain": [
       "<Figure size 1000x400 with 1 Axes>"
      ]
     },
     "metadata": {},
     "output_type": "display_data"
    }
   ],
   "source": [
    "plt.xlabel('время поездки в минутах')\n",
    "plt.ylabel('частота встречаемости')\n",
    "plt.title('Длительность одной поездки у пользователей с разными подписками')\n",
    "ultra_users['duration'].hist(\n",
    "    figsize = (10, 4),\n",
    "    bins = 40,\n",
    "    color = 'black'\n",
    ");\n",
    "\n",
    "free_users['duration'].hist(\n",
    "    figsize = (10, 4),\n",
    "    bins = 40,\n",
    "    alpha = 0.5\n",
    ");"
   ]
  },
  {
   "cell_type": "markdown",
   "id": "5fc5a9c1-02a3-4d86-8cac-288a1999691c",
   "metadata": {},
   "source": [
    "**Вывод:** Графики схожи, и те, и другие пользователи задают нормальное распределение значений, пик в районе 17-18 минут и у тех, и у других. У пользователей без подписки время поездки не превышает 35 минут, а вот у тех, кто имеет подписку, крайнее значение достигает 40 с лишним минут, но эти значения можно считать выбросами. Также, пользователи без подписки совершают крайне короткие поездки (1 минута), причем довольно часто, поездки пользователей с ultra, в свою очередь, длятся минимум 4 минуты."
   ]
  },
  {
   "cell_type": "markdown",
   "id": "847956ef-b715-41d4-961c-2f4db56886b7",
   "metadata": {},
   "source": [
    "## Подсчёт выручки"
   ]
  },
  {
   "cell_type": "code",
   "execution_count": 40,
   "id": "af8bd70c-b7e4-4536-bace-692b369d5ca9",
   "metadata": {},
   "outputs": [
    {
     "data": {
      "text/html": [
       "<div>\n",
       "<style scoped>\n",
       "    .dataframe tbody tr th:only-of-type {\n",
       "        vertical-align: middle;\n",
       "    }\n",
       "\n",
       "    .dataframe tbody tr th {\n",
       "        vertical-align: top;\n",
       "    }\n",
       "\n",
       "    .dataframe thead th {\n",
       "        text-align: right;\n",
       "    }\n",
       "</style>\n",
       "<table border=\"1\" class=\"dataframe\">\n",
       "  <thead>\n",
       "    <tr style=\"text-align: right;\">\n",
       "      <th></th>\n",
       "      <th>month</th>\n",
       "      <th>user_id</th>\n",
       "      <th>rides</th>\n",
       "      <th>meters</th>\n",
       "      <th>minutes</th>\n",
       "      <th>minute_price</th>\n",
       "      <th>start_price</th>\n",
       "      <th>sub_fee</th>\n",
       "    </tr>\n",
       "  </thead>\n",
       "  <tbody>\n",
       "    <tr>\n",
       "      <th>0</th>\n",
       "      <td>1</td>\n",
       "      <td>1</td>\n",
       "      <td>2</td>\n",
       "      <td>7027.511294</td>\n",
       "      <td>42.0</td>\n",
       "      <td>6.0</td>\n",
       "      <td>0.0</td>\n",
       "      <td>199.0</td>\n",
       "    </tr>\n",
       "    <tr>\n",
       "      <th>1</th>\n",
       "      <td>1</td>\n",
       "      <td>3</td>\n",
       "      <td>1</td>\n",
       "      <td>3061.777147</td>\n",
       "      <td>13.0</td>\n",
       "      <td>6.0</td>\n",
       "      <td>0.0</td>\n",
       "      <td>199.0</td>\n",
       "    </tr>\n",
       "    <tr>\n",
       "      <th>2</th>\n",
       "      <td>1</td>\n",
       "      <td>5</td>\n",
       "      <td>1</td>\n",
       "      <td>3914.646990</td>\n",
       "      <td>13.0</td>\n",
       "      <td>6.0</td>\n",
       "      <td>0.0</td>\n",
       "      <td>199.0</td>\n",
       "    </tr>\n",
       "    <tr>\n",
       "      <th>3</th>\n",
       "      <td>1</td>\n",
       "      <td>7</td>\n",
       "      <td>2</td>\n",
       "      <td>6478.080979</td>\n",
       "      <td>28.0</td>\n",
       "      <td>6.0</td>\n",
       "      <td>0.0</td>\n",
       "      <td>199.0</td>\n",
       "    </tr>\n",
       "    <tr>\n",
       "      <th>4</th>\n",
       "      <td>1</td>\n",
       "      <td>12</td>\n",
       "      <td>1</td>\n",
       "      <td>3577.151148</td>\n",
       "      <td>33.0</td>\n",
       "      <td>6.0</td>\n",
       "      <td>0.0</td>\n",
       "      <td>199.0</td>\n",
       "    </tr>\n",
       "  </tbody>\n",
       "</table>\n",
       "</div>"
      ],
      "text/plain": [
       "   month  user_id  rides       meters  minutes  minute_price  start_price  \\\n",
       "0      1        1      2  7027.511294     42.0           6.0          0.0   \n",
       "1      1        3      1  3061.777147     13.0           6.0          0.0   \n",
       "2      1        5      1  3914.646990     13.0           6.0          0.0   \n",
       "3      1        7      2  6478.080979     28.0           6.0          0.0   \n",
       "4      1       12      1  3577.151148     33.0           6.0          0.0   \n",
       "\n",
       "   sub_fee  \n",
       "0    199.0  \n",
       "1    199.0  \n",
       "2    199.0  \n",
       "3    199.0  \n",
       "4    199.0  "
      ]
     },
     "execution_count": 40,
     "metadata": {},
     "output_type": "execute_result"
    }
   ],
   "source": [
    "data['duration'] = np.ceil(data['duration']) \n",
    "total_data = data.pivot_table(index=['month','user_id'], aggfunc={'distance': ['sum', 'count'], 'duration': 'sum', 'minute_price': 'mean',\n",
    "                                                                  'start_ride_price': 'mean', 'subscription_fee': 'mean'}).reset_index()\n",
    "total_data.columns = ['month', 'user_id', 'rides', 'meters', 'minutes', 'minute_price', 'start_price', 'sub_fee'] \n",
    "total_data.head()"
   ]
  },
  {
   "cell_type": "code",
   "execution_count": 41,
   "id": "ebfecdce-2115-4ae5-bd0b-8d571121fb8f",
   "metadata": {},
   "outputs": [
    {
     "data": {
      "text/plain": [
       "month           0\n",
       "user_id         0\n",
       "rides           0\n",
       "meters          0\n",
       "minutes         0\n",
       "minute_price    0\n",
       "start_price     0\n",
       "sub_fee         0\n",
       "dtype: int64"
      ]
     },
     "execution_count": 41,
     "metadata": {},
     "output_type": "execute_result"
    }
   ],
   "source": [
    "total_data.isna().sum()"
   ]
  },
  {
   "cell_type": "markdown",
   "id": "b9c695b2-5d3e-4b12-ace9-4e4809b3a176",
   "metadata": {},
   "source": [
    "Сделали сводную таблицу с агрегированными данными о поездках каждого пользователя, здесь `rides` - количество поездок за месяц, `meters` - общая дистанция в метрах за месяц, `minutes` - общее время поездок за месяц, остальные столбцы - стоимость минуты, старта и подписки в зависимости от ее типа."
   ]
  },
  {
   "cell_type": "code",
   "execution_count": 42,
   "id": "c3859311-fc72-41a4-b66a-46790932afd9",
   "metadata": {},
   "outputs": [
    {
     "data": {
      "text/html": [
       "<div>\n",
       "<style scoped>\n",
       "    .dataframe tbody tr th:only-of-type {\n",
       "        vertical-align: middle;\n",
       "    }\n",
       "\n",
       "    .dataframe tbody tr th {\n",
       "        vertical-align: top;\n",
       "    }\n",
       "\n",
       "    .dataframe thead th {\n",
       "        text-align: right;\n",
       "    }\n",
       "</style>\n",
       "<table border=\"1\" class=\"dataframe\">\n",
       "  <thead>\n",
       "    <tr style=\"text-align: right;\">\n",
       "      <th></th>\n",
       "      <th>month</th>\n",
       "      <th>user_id</th>\n",
       "      <th>rides</th>\n",
       "      <th>meters</th>\n",
       "      <th>minutes</th>\n",
       "      <th>minute_price</th>\n",
       "      <th>start_price</th>\n",
       "      <th>sub_fee</th>\n",
       "      <th>earnings</th>\n",
       "    </tr>\n",
       "  </thead>\n",
       "  <tbody>\n",
       "    <tr>\n",
       "      <th>0</th>\n",
       "      <td>1</td>\n",
       "      <td>1</td>\n",
       "      <td>2</td>\n",
       "      <td>7027.511294</td>\n",
       "      <td>42.0</td>\n",
       "      <td>6.0</td>\n",
       "      <td>0.0</td>\n",
       "      <td>199.0</td>\n",
       "      <td>451.0</td>\n",
       "    </tr>\n",
       "    <tr>\n",
       "      <th>1</th>\n",
       "      <td>1</td>\n",
       "      <td>3</td>\n",
       "      <td>1</td>\n",
       "      <td>3061.777147</td>\n",
       "      <td>13.0</td>\n",
       "      <td>6.0</td>\n",
       "      <td>0.0</td>\n",
       "      <td>199.0</td>\n",
       "      <td>277.0</td>\n",
       "    </tr>\n",
       "    <tr>\n",
       "      <th>2</th>\n",
       "      <td>1</td>\n",
       "      <td>5</td>\n",
       "      <td>1</td>\n",
       "      <td>3914.646990</td>\n",
       "      <td>13.0</td>\n",
       "      <td>6.0</td>\n",
       "      <td>0.0</td>\n",
       "      <td>199.0</td>\n",
       "      <td>277.0</td>\n",
       "    </tr>\n",
       "    <tr>\n",
       "      <th>3</th>\n",
       "      <td>1</td>\n",
       "      <td>7</td>\n",
       "      <td>2</td>\n",
       "      <td>6478.080979</td>\n",
       "      <td>28.0</td>\n",
       "      <td>6.0</td>\n",
       "      <td>0.0</td>\n",
       "      <td>199.0</td>\n",
       "      <td>367.0</td>\n",
       "    </tr>\n",
       "    <tr>\n",
       "      <th>4</th>\n",
       "      <td>1</td>\n",
       "      <td>12</td>\n",
       "      <td>1</td>\n",
       "      <td>3577.151148</td>\n",
       "      <td>33.0</td>\n",
       "      <td>6.0</td>\n",
       "      <td>0.0</td>\n",
       "      <td>199.0</td>\n",
       "      <td>397.0</td>\n",
       "    </tr>\n",
       "  </tbody>\n",
       "</table>\n",
       "</div>"
      ],
      "text/plain": [
       "   month  user_id  rides       meters  minutes  minute_price  start_price  \\\n",
       "0      1        1      2  7027.511294     42.0           6.0          0.0   \n",
       "1      1        3      1  3061.777147     13.0           6.0          0.0   \n",
       "2      1        5      1  3914.646990     13.0           6.0          0.0   \n",
       "3      1        7      2  6478.080979     28.0           6.0          0.0   \n",
       "4      1       12      1  3577.151148     33.0           6.0          0.0   \n",
       "\n",
       "   sub_fee  earnings  \n",
       "0    199.0     451.0  \n",
       "1    199.0     277.0  \n",
       "2    199.0     277.0  \n",
       "3    199.0     367.0  \n",
       "4    199.0     397.0  "
      ]
     },
     "execution_count": 42,
     "metadata": {},
     "output_type": "execute_result"
    }
   ],
   "source": [
    "total_data['earnings'] = total_data['minutes'] * total_data['minute_price'] + total_data['start_price'] * total_data['rides'] + total_data['sub_fee']\n",
    "total_data.head()"
   ]
  },
  {
   "cell_type": "markdown",
   "id": "1556a5b4-e546-41ea-84f2-042d80dd3bad",
   "metadata": {},
   "source": [
    "Добавили стобец с помесячной выручкой с каждого пользователя."
   ]
  },
  {
   "cell_type": "markdown",
   "id": "c7b06bd5-b001-497b-903a-e079027ebb3b",
   "metadata": {},
   "source": [
    "## Проверка гипотез"
   ]
  },
  {
   "cell_type": "markdown",
   "id": "045195fb-0e14-4aac-ae51-22ef8f29fc73",
   "metadata": {},
   "source": [
    "### Тратят ли пользователи с подпиской больше времени на поездки?"
   ]
  },
  {
   "cell_type": "markdown",
   "id": "9f90bc52-d64d-4cd1-8247-e11f0a8b874c",
   "metadata": {},
   "source": [
    "Проведем t-тест, все условия для его использования выполняются.\n",
    "Для начала сформулируем гипотезы:\n",
    "- H0: пользователи с подпиской и без подписки тратят одинаковое количество времени на поездки\n",
    "- H1: пользователи с подпиской тратят больше времени на поездки"
   ]
  },
  {
   "cell_type": "code",
   "execution_count": 43,
   "id": "d3d3f038-47e4-43bb-9be7-ce4b404cd46b",
   "metadata": {},
   "outputs": [
    {
     "name": "stdout",
     "output_type": "stream",
     "text": [
      "Среднее первой выборки: 17.39090929866399\n",
      "Среднее второй выборки: 18.54198516280583\n",
      "p-значение: 1.2804098316645618e-34\n",
      "Отвергаем нулевую гипотезу\n"
     ]
    }
   ],
   "source": [
    "alpha = 0.05\n",
    "results = st.ttest_ind(ultra_users['duration'], free_users['duration'], alternative='greater')\n",
    "\n",
    "print(f'Среднее первой выборки: {np.mean(free_users[\"duration\"])}')\n",
    "print(f'Среднее второй выборки: {np.mean(ultra_users[\"duration\"])}')\n",
    "print('p-значение:', results.pvalue)\n",
    "\n",
    "if results.pvalue < alpha:\n",
    "    print('Отвергаем нулевую гипотезу')\n",
    "else:\n",
    "    print('Не получилось отвергнуть нулевую гипотезу')"
   ]
  },
  {
   "cell_type": "markdown",
   "id": "73e10de1-e025-41b8-a5bd-ac7ac6c69b5e",
   "metadata": {},
   "source": [
    "**Вывод:** судя по р-значению вероятность получить наблюдаемый или ещё более далекий от предполагаемого результат при условии, что нулевая гипотеза верна, очень мала. Значит, нулевую гипотезу мы отвергаем, и пользователи с подпиской действительно тратят больше времени на поездки."
   ]
  },
  {
   "cell_type": "markdown",
   "id": "512afcca-a971-48cb-9a1b-edd9b53e013c",
   "metadata": {},
   "source": [
    "### Можно ли сказать, что среднее расстояние, которое проезжают пользователи с подпиской за одну поездку, не превышает 3130 метров?"
   ]
  },
  {
   "cell_type": "markdown",
   "id": "d1798bea-7879-4d5b-950a-6a358131839d",
   "metadata": {},
   "source": [
    "Проведем t-тест, все условия для его использования выполняются.\n",
    "Для начала сформулируем гипотезы:\n",
    "- H0: среднее расстояние поездки пользователей с подпиской не превышает 3130 метров\n",
    "- H1: среднее расстояние поездки пользователей с подпиской превышает 3130 метров"
   ]
  },
  {
   "cell_type": "code",
   "execution_count": 44,
   "id": "65e65c5b-fccc-4df2-a634-19bfeb0a2109",
   "metadata": {},
   "outputs": [
    {
     "name": "stdout",
     "output_type": "stream",
     "text": [
      "p-значение: 0.9195368847849785\n",
      "Не получилось отвергнуть нулевую гипотезу\n"
     ]
    }
   ],
   "source": [
    "optimal_distance = 3130\n",
    "alpha = 0.05 \n",
    "results = st.ttest_1samp(ultra_users['distance'], optimal_distance, alternative = 'greater')\n",
    "\n",
    "print('p-значение:', results.pvalue)\n",
    "\n",
    "if results.pvalue < alpha:\n",
    "    print('Отвергаем нулевую гипотезу')\n",
    "else:\n",
    "    print('Не получилось отвергнуть нулевую гипотезу')"
   ]
  },
  {
   "cell_type": "markdown",
   "id": "b7ebce51-7f49-4824-a973-52e10f0e9a50",
   "metadata": {},
   "source": [
    "**Вывод:** Нулевую гипотезу отвергнуть не получилось, р-значение равно 9%. Это означает, что мы можем утверждать, что среднее расстояние поездки пользователей с подпиской не превышает оптимального - 3130 метров."
   ]
  },
  {
   "cell_type": "markdown",
   "id": "bdd1c6f6-3465-49fa-ae61-9c961668eef7",
   "metadata": {},
   "source": [
    "### Будет ли помесячная выручка от пользователей с подпиской по месяцам выше, чем выручка от пользователей без подписки?"
   ]
  },
  {
   "cell_type": "markdown",
   "id": "8559ee81-1c03-4d90-83d0-a0964e17ca48",
   "metadata": {},
   "source": [
    "Проведем t-тест, все условия для его использования выполняются.\n",
    "Для начала сформулируем гипотезы:\n",
    "- H0: помесячная выручка от пользователей с подпиской равна помесячной выручке от пользователей без подписки\n",
    "- H1: помесячная выручка от пользователей с подпиской больше помесячной выручки от пользователей без подписки"
   ]
  },
  {
   "cell_type": "code",
   "execution_count": 45,
   "id": "eb132f5b-c429-478a-b0e7-31403d7a6767",
   "metadata": {},
   "outputs": [
    {
     "name": "stdout",
     "output_type": "stream",
     "text": [
      "p-значение: 1.8850394384715216e-31\n",
      "Отвергаем нулевую гипотезу\n"
     ]
    }
   ],
   "source": [
    "alpha = 0.05\n",
    "results = st.ttest_ind(\n",
    "    total_data.loc[total_data['sub_fee'] == 199, 'earnings'], \n",
    "    total_data.loc[total_data['sub_fee'] == 0, 'earnings'], \n",
    "    alternative='greater')\n",
    "\n",
    "print('p-значение:', results.pvalue)\n",
    "\n",
    "if results.pvalue < alpha:\n",
    "    print('Отвергаем нулевую гипотезу')\n",
    "else:\n",
    "    print('Не получилось отвергнуть нулевую гипотезу')"
   ]
  },
  {
   "cell_type": "code",
   "execution_count": 46,
   "id": "7a49c5ea-0fd3-49f6-ba45-1402453eebff",
   "metadata": {},
   "outputs": [
    {
     "data": {
      "image/png": "[encoded data removed]",
      "text/plain": [
       "<Figure size 1000x400 with 1 Axes>"
      ]
     },
     "metadata": {},
     "output_type": "display_data"
    }
   ],
   "source": [
    "plt.xlabel('помесячная выручка')\n",
    "total_data.loc[total_data['sub_fee'] == 199, 'earnings'].hist(\n",
    "    figsize = (10, 4),\n",
    "    bins = 40,\n",
    "    color = 'black'\n",
    ");\n",
    "\n",
    "total_data.loc[total_data['sub_fee'] == 0, 'earnings'].hist(\n",
    "    figsize = (10, 4),\n",
    "    bins = 40,\n",
    "    alpha = 0.5\n",
    ");"
   ]
  },
  {
   "cell_type": "markdown",
   "id": "81c651c9-52b6-45bf-814a-611900cdc4be",
   "metadata": {},
   "source": [
    "**Вывод:** р-значение невероятно мало, что позволяет нам отвергнуть нулевую гипотезу и дает основания утверждать, что помесячная выручка от пользователей с подпиской больше, чем от пользователей без подписки."
   ]
  },
  {
   "cell_type": "markdown",
   "id": "9539c507-7876-4814-93e7-e9c916f103c2",
   "metadata": {},
   "source": [
    "### Ситуация: техническая команда сервиса обновила сервера, с которыми взаимодействует мобильное приложение. Она надеется, что из-за этого количество обращений в техподдержку значимо снизилось. Некоторый файл содержит для каждого пользователя данные о количестве обращений до обновления и после него. Какой тест вам понадобился бы для проверки этой гипотезы?"
   ]
  },
  {
   "cell_type": "markdown",
   "id": "9224fd08-b252-4951-8c52-315c576aaba2",
   "metadata": {},
   "source": [
    "Техническая команда обновила сервера, то есть к тем же серверам добавила новые функции, а значит, в файле с данными мы сможем найти две связанных между собой выборки - у них будет одинаковый размер и измерения для одних и тех же пользователей. Можно провести t-тест для парных выборок, применив такой метод: `scipy.stats.ttest_rel()`. Так как команда надеется, что количество обращений в техподдержку снизилось, в методе укажем выборки в таком порядке - сначала \"до\", затем \"после\", аргументу `alternative` дадим значение `greater`."
   ]
  },
  {
   "cell_type": "markdown",
   "id": "4779db8b-8a9c-4d2d-8188-38b328668a5c",
   "metadata": {},
   "source": [
    "## Общий вывод"
   ]
  },
  {
   "cell_type": "markdown",
   "id": "902be0db-e0dd-4d5d-871f-f836635b4f3b",
   "metadata": {},
   "source": [
    "Мы провели исследование по данным об аренде самокатов сервиса GoFast и проверили несколько гипотез:\n",
    "\n",
    "1. Гипотезу о том, что среднее время поездки пользователей с подпиской и без нее равны, удалось отвергнуть, выходит, что пользователи `ultra` действительно тратят больше времени на поездки.\n",
    "2. Среднее расстояние поездки пользователей с подпиской `ultra` не превышает 3130 метров - расстояния, оптимального с точки зрения износа самоката.\n",
    "3. Удалось отвергнуть гипотезу о том, что ежемесячная выручка от пользователей с подпиской и без нее одинаковы, что позволяет утверждать, что пользователи с подпиской `ultra` выгоднее для сервиса.\n",
    "\n",
    "Бизнесу **выгодны** пользователи с подпиской `ultra`, поэтому увеличение их количества приведет к росту и развитию сервиса GoFast, однако оптимальное расстояние за одну поездку в разрезе износа самоката нередко превышается, особенно учитывая, что у пользователей с подпиской средняя дистанция поездки больше. Увеличение числа пользователей с подпиской может привести к рискам износа самокатов."
   ]
  },
  {
   "cell_type": "markdown",
   "id": "ead170c7-8860-4051-ba20-e16406ffab06",
   "metadata": {},
   "source": [
    "Если это возможно, то после проверки я бы хотела доделать дополнительное седьмое задание и соответственно дослать проект вместе с ним!)"
   ]
  }
 ],
 "metadata": {
  "kernelspec": {
   "display_name": "Python 3 (ipykernel)",
   "language": "python",
   "name": "python3"
  },
  "language_info": {
   "codemirror_mode": {
    "name": "ipython",
    "version": 3
   },
   "file_extension": ".py",
   "mimetype": "text/x-python",
   "name": "python",
   "nbconvert_exporter": "python",
   "pygments_lexer": "ipython3",
   "version": "3.11.7"
  }
 },
 "nbformat": 4,
 "nbformat_minor": 5
}
